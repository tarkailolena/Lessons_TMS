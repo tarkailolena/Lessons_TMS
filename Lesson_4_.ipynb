{
 "cells": [
  {
   "cell_type": "code",
   "execution_count": 13,
   "id": "7706505e-ac0d-4ec4-909c-44a20bd9dd9e",
   "metadata": {},
   "outputs": [
    {
     "name": "stdout",
     "output_type": "stream",
     "text": [
      "Есть контакт!\n",
      "Мимо!\n"
     ]
    }
   ],
   "source": [
    "# №2 Создaть функцию, которая принимает 2 строки и определяет имеется ли подстрока subst в строке st. \n",
    "def search_substr(subst, st):\n",
    "    if subst.lower() in st.lower():\n",
    "        return \"Есть контакт!\"\n",
    "    else:\n",
    "       return \"Мимо!\"\n",
    "print(search_substr(\"дом\", \"домовой\"))\n",
    "print (search_substr(\"дом\", \"улица\"))\n",
    "    "
   ]
  },
  {
   "cell_type": "code",
   "execution_count": 1,
   "id": "a68bfe72-09a0-4a5e-916b-fa9d9d553315",
   "metadata": {},
   "outputs": [
    {
     "name": "stdout",
     "output_type": "stream",
     "text": [
      "[('т', 3), ('а', 2), ('Р', 1)]\n"
     ]
    }
   ],
   "source": [
    "# №3 На основании строки определить 3 наиболее часто встречаемых символа в ней, без пробелов\n",
    "from collections import Counter\n",
    "\n",
    "def str_test(a):\n",
    "    a = a.replace(\" \",\" \")\n",
    "    counter = Counter(a)\n",
    "    most_often_3 = counter.most_common(3)\n",
    "    result = ', '.join([f\"{char}-{count}\" for char, count in most_often_3])\n",
    "    return most_often_3\n",
    "print(str_test(\"Результат работы\"))"
   ]
  },
  {
   "cell_type": "code",
   "execution_count": 2,
   "id": "5219c0b7-271e-4e40-a163-8cf18938d5c9",
   "metadata": {},
   "outputs": [
    {
     "name": "stdout",
     "output_type": "stream",
     "text": [
      "{1: 3, 5: 3, 0: 2}\n"
     ]
    }
   ],
   "source": [
    "# №4 Cоздать функцию, которая сначала подсчитает каждое число с помощью словаря, а затем отсортирует его по убыванию частоты и вернет топ-3 элемента\n",
    "def count_it(sequence):\n",
    "    count = {}\n",
    "    for char in sequence:\n",
    "        num = int(char)\n",
    "        if num in count:\n",
    "            count[num] += 1\n",
    "        else:\n",
    "            count[num] = 1\n",
    "    count_sort = sorted(count.items(), key=lambda item: item[1], reverse=True)\n",
    "    count_2 = {}      \n",
    "    for i in range(min(3, len(count_sort))):\n",
    "        count_2[count_sort[i][0]] = count_sort[i][1]   \n",
    "    return count_2\n",
    "        \n",
    "\n",
    "print(count_it(\"159551100\"))      "
   ]
  },
  {
   "cell_type": "code",
   "execution_count": 8,
   "id": "bdeb0c8c-256f-4d83-b883-a53d3e260924",
   "metadata": {},
   "outputs": [
    {
     "name": "stdout",
     "output_type": "stream",
     "text": [
      "2.0520831916665485\n",
      "-0.9980470518213969\n",
      "0.7474350927519359\n",
      "0.9760709219825242\n",
      "-0.21745242068136464\n",
      "cos(e)**x\n",
      "(e^cos(x))^0.5\n",
      "0.9571676997592558\n",
      "0.10032383007390683\n",
      "2.787994097740316\n"
     ]
    }
   ],
   "source": [
    "#1 Решить уравнение y = (cos^e + ln(1+x) + (e^cosx + (sin^2)Пиx)^1/2 +cosx^2)^sinx\n",
    "\n",
    "import math\n",
    "from sympy import symbols, simplify, sin, cos\n",
    "import numpy as np\n",
    "k, y, e = symbols('x y e')\n",
    "\n",
    "x = 1.79\n",
    "e = 2.71828\n",
    "cos_e_x = math.cos(e**x)\n",
    "cos_x_2 = math.cos(1.79**2)\n",
    "cos_x = math.cos(x)\n",
    "e_2_cos = (e)**(1/(2*(cos_x)))\n",
    "sin_x = math.sin(x)\n",
    "ln = np.log((1+x)**2)\n",
    "z = (1 / x) ** 0.5\n",
    "k = symbols(\"cos(e)**x\")\n",
    "y = symbols(\"(e^cos(x))^0.5\")\n",
    "print(ln)\n",
    "print(cos_x_2)\n",
    "print(z)\n",
    "print(sin_x)\n",
    "print(cos_x)\n",
    "print(k)\n",
    "print(y)\n",
    "print(cos_e_x)\n",
    "print(e_2_cos)\n",
    "new_1 = ((cos_e_x) + (ln) + (e_2_cos) +(z) + cos_x_2)**(sin_x)\n",
    "print(new_1)\n",
    "\n",
    "\n"
   ]
  },
  {
   "cell_type": "code",
   "execution_count": 7,
   "id": "6d6c5491-519c-4fbc-9d71-17f8306e1c70",
   "metadata": {},
   "outputs": [
    {
     "name": "stdout",
     "output_type": "stream",
     "text": [
      "2.787994097740316\n"
     ]
    }
   ],
   "source": [
    "# Сокращенный способ задания №1\n",
    "import math\n",
    "from sympy import symbols, simplify, sin, cos\n",
    "import numpy as np\n",
    "k, y, e = symbols('x y e')\n",
    "\n",
    "x = 1.79\n",
    "e = 2.71828\n",
    "cos_x = math.cos(x)\n",
    "sin_x = math.sin(x)\n",
    "result_y = ((math.cos(e**x)) + (np.log((1 + x)**2)) + (e**(1/(2*(cos_x)))) + ((1/x)**(0.5)) + (math.cos(x**2)))**(math.sin(x))\n",
    "print(result_y)\n"
   ]
  },
  {
   "cell_type": "code",
   "execution_count": 10,
   "id": "fa0cbde1-655d-41db-bc1a-9dfd7419c7dc",
   "metadata": {},
   "outputs": [
    {
     "name": "stdin",
     "output_type": "stream",
     "text": [
      "Введите а(верт) :  2\n",
      "Введите b(горизонт):  8\n",
      "Введите c(верт):  2\n",
      "Введите d(горизонт):  4\n"
     ]
    },
    {
     "name": "stdout",
     "output_type": "stream",
     "text": [
      "Угроза\n"
     ]
    }
   ],
   "source": [
    "## Угрожает ли вражеская фигура в на стандартном шахматном поле 8*8. Фигура ферзь+,  конь-. a,b-моя фигура. с,d -вражеская\n",
    "from math import *\n",
    "a = int(input(\"Введите а(верт) : \"))\n",
    "b = int(input(\"Введите b(горизонт): \"))\n",
    "c = int(input(\"Введите c(верт): \"))\n",
    "d = int(input(\"Введите d(горизонт): \"))\n",
    "\n",
    "if abs(a-c) == abs(b-d) or a == c or b == d:\n",
    "   print('Угроза')\n",
    "else: print('Нет угрозы')    \n",
    "   "
   ]
  },
  {
   "cell_type": "code",
   "execution_count": null,
   "id": "90942f85-a634-40fc-b168-5d94b1da1ea1",
   "metadata": {},
   "outputs": [],
   "source": []
  }
 ],
 "metadata": {
  "kernelspec": {
   "display_name": "Python 3 (ipykernel)",
   "language": "python",
   "name": "python3"
  },
  "language_info": {
   "codemirror_mode": {
    "name": "ipython",
    "version": 3
   },
   "file_extension": ".py",
   "mimetype": "text/x-python",
   "name": "python",
   "nbconvert_exporter": "python",
   "pygments_lexer": "ipython3",
   "version": "3.13.5"
  }
 },
 "nbformat": 4,
 "nbformat_minor": 5
}
